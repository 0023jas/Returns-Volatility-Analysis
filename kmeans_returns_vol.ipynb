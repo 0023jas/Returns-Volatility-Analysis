{
 "cells": [
  {
   "cell_type": "code",
   "execution_count": null,
   "id": "85063378",
   "metadata": {},
   "outputs": [],
   "source": [
    "from math import sqrt\n",
    "\n",
    "import pandas as pd\n",
    "from sklearn.cluster import KMeans\n",
    "import matplotlib.pyplot as plt\n",
    "plt.rc(\"font\", size=10)\n",
    "\n",
    "from openbb_terminal.sdk import openbb"
   ]
  },
  {
   "cell_type": "code",
   "execution_count": null,
   "id": "33658a61",
   "metadata": {},
   "outputs": [],
   "source": [
    "# Code creates list of dow jones symbols\n",
    "dji = (\n",
    "    pd.read_html('https://en.wikipedia.org/wiki/Dow_Jones_Industrial_Average')[1]\n",
    ")\n",
    "dji_symbols = dji.Symbol.tolist()\n",
    "dji_symbols.remove('DOW')\n",
    "\n",
    "dji_data = openbb.stocks.ca.hist(\n",
    "    dji_symbols, \n",
    "    start_date=\"2016-01-01\",\n",
    "    end_date=\"2020-01-01\"\n",
    ")"
   ]
  },
  {
   "cell_type": "code",
   "execution_count": null,
   "id": "0a132e9d",
   "metadata": {},
   "outputs": [],
   "source": [
    "# Code creates list of sp500 symbols\n",
    "sp500 = (\n",
    "    pd.read_html('https://en.wikipedia.org/wiki/List_of_S%26P_500_companies')[0]\n",
    ")\n",
    "sp500_symbols = sp500.Symbol.tolist()\n",
    "sp500_symbols.remove('BRK.B')\n",
    "sp500_symbols.remove('BF.B')\n",
    "sp500_symbols.remove('CARR')\n",
    "sp500_symbols.remove('CDAY')\n",
    "sp500_symbols.remove('CEG')\n",
    "sp500_symbols.remove('CTVA')\n",
    "sp500_symbols.remove('DOW')\n",
    "sp500_symbols.remove('FTV')\n",
    "sp500_symbols.remove('FOXA')\n",
    "sp500_symbols.remove('FOX')\n",
    "sp500_symbols.remove('GEHC')\n",
    "sp500_symbols.remove('HWM')\n",
    "sp500_symbols.remove('IR')\n",
    "sp500_symbols.remove('INVH')\n",
    "sp500_symbols.remove('LW')\n",
    "sp500_symbols.remove('MRNA')\n",
    "sp500_symbols.remove('OGN')\n",
    "sp500_symbols.remove('OTIS')\n",
    "sp500_symbols.remove('ROP')\n",
    "sp500_symbols.remove('VICI')\n",
    "\n",
    "\n",
    "sp500_data = openbb.stocks.ca.hist(\n",
    "    sp500_symbols, \n",
    "    start_date=\"2016-01-01\",\n",
    "    end_date=\"2020-01-01\"\n",
    ")"
   ]
  },
  {
   "cell_type": "code",
   "execution_count": null,
   "id": "dd7e0667",
   "metadata": {},
   "outputs": [],
   "source": [
    "# Code creates list of sp100 symbols\n",
    "sp100 = (\n",
    "    pd.read_html('https://en.wikipedia.org/wiki/S%26P_100')[2]\n",
    ")\n",
    "sp100_symbols = sp100.Symbol.tolist()\n",
    "sp100_symbols.remove('BRK.B')\n",
    "sp100_symbols.remove('DOW')\n",
    "sp100_symbols.append('CP')\n",
    "\n",
    "sp100_data = openbb.stocks.ca.hist(\n",
    "    sp100_symbols, \n",
    "    start_date=\"2016-01-01\",\n",
    "    end_date=\"2020-01-01\"\n",
    ")"
   ]
  },
  {
   "cell_type": "code",
   "execution_count": null,
   "id": "8ca953f5",
   "metadata": {},
   "outputs": [],
   "source": [
    "moments = (\n",
    "    sp100_data\n",
    "    .pct_change()\n",
    "    .describe()\n",
    "    .T[[\"mean\", \"std\"]]\n",
    "    .rename(columns={\"mean\": \"returns\", \"std\": \"vol\"})\n",
    ") * [252, sqrt(252)]"
   ]
  },
  {
   "cell_type": "code",
   "execution_count": null,
   "id": "2be83c6b",
   "metadata": {},
   "outputs": [],
   "source": [
    "sse = []\n",
    "for k in range(2, 15):\n",
    "    kmeans = KMeans(n_clusters=k, n_init=10)\n",
    "    kmeans.fit(moments)\n",
    "    sse.append(kmeans.inertia_)\n",
    "\n",
    "plt.plot(range(2, 15), sse)\n",
    "plt.title(\"Elbow Curve\");"
   ]
  },
  {
   "cell_type": "code",
   "execution_count": null,
   "id": "1b31de9f",
   "metadata": {},
   "outputs": [],
   "source": [
    "kmeans = KMeans(n_clusters=3, n_init=11).fit(moments)\n",
    "plt.scatter(\n",
    "    moments.returns, \n",
    "    moments.vol, \n",
    "    c=kmeans.labels_, \n",
    "    cmap=\"rainbow\",\n",
    ");\n",
    "\n",
    "asset_groups = {\n",
    "    0: [],\n",
    "    1: [],\n",
    "    2: [],\n",
    "    3: [],\n",
    "    4: [],\n",
    "    5: [],\n",
    "    6: [],\n",
    "    7: [],\n",
    "    8: [],\n",
    "    9: [],\n",
    "    10: [],\n",
    "    11: [],\n",
    "    12: [],\n",
    "    13: [],\n",
    "    14: [],\n",
    "    15: [],\n",
    "    16: [],\n",
    "    17: [],\n",
    "    18: [],\n",
    "    19: [],\n",
    "    20: []\n",
    "}\n",
    "\n",
    "plt.title(\"Dow Jones stocks by return and volatility (K=6)\")\n",
    "for i in range(len(moments.index)):\n",
    "    if(moments.index[i] == \"BLK\"):\n",
    "        txt = f\"{moments.index[i]} ({kmeans.labels_[i]})\"\n",
    "    else:\n",
    "        txt = f\"\"\n",
    "    asset_groups[int(kmeans.labels_[i])].append(moments.index[i])\n",
    "    xy = tuple(moments.iloc[i, :] + [0, 0.01])\n",
    "    plt.annotate(txt, xy)\n",
    "    "
   ]
  },
  {
   "cell_type": "code",
   "execution_count": null,
   "id": "67794545",
   "metadata": {},
   "outputs": [],
   "source": [
    "# Prints a list of tickers that belong to a specific group\n",
    "print(asset_groups[1])"
   ]
  }
 ],
 "metadata": {
  "kernelspec": {
   "display_name": "Python 3 (ipykernel)",
   "language": "python",
   "name": "python3"
  },
  "language_info": {
   "codemirror_mode": {
    "name": "ipython",
    "version": 3
   },
   "file_extension": ".py",
   "mimetype": "text/x-python",
   "name": "python",
   "nbconvert_exporter": "python",
   "pygments_lexer": "ipython3",
   "version": "3.9.13"
  }
 },
 "nbformat": 4,
 "nbformat_minor": 5
}
